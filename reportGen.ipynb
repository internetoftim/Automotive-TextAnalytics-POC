{
  "nbformat": 4,
  "nbformat_minor": 0,
  "metadata": {
    "colab": {
      "provenance": [],
      "authorship_tag": "ABX9TyObI6j9iw5ryyn/mo1qKsYl",
      "include_colab_link": true
    },
    "kernelspec": {
      "name": "python3",
      "display_name": "Python 3"
    },
    "language_info": {
      "name": "python"
    }
  },
  "cells": [
    {
      "cell_type": "markdown",
      "metadata": {
        "id": "view-in-github",
        "colab_type": "text"
      },
      "source": [
        "<a href=\"https://colab.research.google.com/github/internetoftim/Automotive-TextAnalytics-POC/blob/master/reportGen.ipynb\" target=\"_parent\"><img src=\"https://colab.research.google.com/assets/colab-badge.svg\" alt=\"Open In Colab\"/></a>"
      ]
    },
    {
      "cell_type": "markdown",
      "source": [
        "This code defines a `generate_report` function which takes two parameters, `NDVI_values` and `NDMI_values`, then uses them to generate the report. Remember to replace `'your-api-key'` with your actual OpenAI API key."
      ],
      "metadata": {
        "id": "0PqtdjBmlf8p"
      }
    },
    {
      "cell_type": "code",
      "source": [
        "!pip install openai"
      ],
      "metadata": {
        "colab": {
          "base_uri": "https://localhost:8080/"
        },
        "id": "owQgyTI6lxeR",
        "outputId": "9ad30b2e-e9f0-4f9f-885c-41b3a7904299"
      },
      "execution_count": 4,
      "outputs": [
        {
          "output_type": "stream",
          "name": "stdout",
          "text": [
            "Collecting openai\n",
            "  Downloading openai-0.27.8-py3-none-any.whl (73 kB)\n",
            "\u001b[?25l     \u001b[90m━━━━━━━━━━━━━━━━━━━━━━━━━━━━━━━━━━━━━━━━\u001b[0m \u001b[32m0.0/73.6 kB\u001b[0m \u001b[31m?\u001b[0m eta \u001b[36m-:--:--\u001b[0m\r\u001b[2K     \u001b[90m━━━━━━━━━━━━━━━━━━━━━━━━━━━━━━━━━━━━━━━━\u001b[0m \u001b[32m73.6/73.6 kB\u001b[0m \u001b[31m2.7 MB/s\u001b[0m eta \u001b[36m0:00:00\u001b[0m\n",
            "\u001b[?25hRequirement already satisfied: requests>=2.20 in /usr/local/lib/python3.10/dist-packages (from openai) (2.27.1)\n",
            "Requirement already satisfied: tqdm in /usr/local/lib/python3.10/dist-packages (from openai) (4.65.0)\n",
            "Requirement already satisfied: aiohttp in /usr/local/lib/python3.10/dist-packages (from openai) (3.8.4)\n",
            "Requirement already satisfied: urllib3<1.27,>=1.21.1 in /usr/local/lib/python3.10/dist-packages (from requests>=2.20->openai) (1.26.16)\n",
            "Requirement already satisfied: certifi>=2017.4.17 in /usr/local/lib/python3.10/dist-packages (from requests>=2.20->openai) (2023.5.7)\n",
            "Requirement already satisfied: charset-normalizer~=2.0.0 in /usr/local/lib/python3.10/dist-packages (from requests>=2.20->openai) (2.0.12)\n",
            "Requirement already satisfied: idna<4,>=2.5 in /usr/local/lib/python3.10/dist-packages (from requests>=2.20->openai) (3.4)\n",
            "Requirement already satisfied: attrs>=17.3.0 in /usr/local/lib/python3.10/dist-packages (from aiohttp->openai) (23.1.0)\n",
            "Requirement already satisfied: multidict<7.0,>=4.5 in /usr/local/lib/python3.10/dist-packages (from aiohttp->openai) (6.0.4)\n",
            "Requirement already satisfied: async-timeout<5.0,>=4.0.0a3 in /usr/local/lib/python3.10/dist-packages (from aiohttp->openai) (4.0.2)\n",
            "Requirement already satisfied: yarl<2.0,>=1.0 in /usr/local/lib/python3.10/dist-packages (from aiohttp->openai) (1.9.2)\n",
            "Requirement already satisfied: frozenlist>=1.1.1 in /usr/local/lib/python3.10/dist-packages (from aiohttp->openai) (1.3.3)\n",
            "Requirement already satisfied: aiosignal>=1.1.2 in /usr/local/lib/python3.10/dist-packages (from aiohttp->openai) (1.3.1)\n",
            "Installing collected packages: openai\n",
            "Successfully installed openai-0.27.8\n"
          ]
        }
      ]
    },
    {
      "cell_type": "code",
      "execution_count": 3,
      "metadata": {
        "id": "pAqhfLvLiaz-",
        "colab": {
          "base_uri": "https://localhost:8080/"
        },
        "outputId": "009fb9f4-0cd5-4c68-ee13-34eb0b79e819"
      },
      "outputs": [
        {
          "output_type": "stream",
          "name": "stdout",
          "text": [
            "ACME Corp is pleased to present this report to the Taskforce for Nature-related Financial Disclosure (TNFD). This report provides an overview of the two nature-based metrics, Normalized Difference Vegetation Index (NDVI) and Normalized Difference Moisture Index (NDMI), and an analysis of the data provided by TNFD for year 2022.\n",
            "\n",
            "The TNFD is a market-led initiative, funded by government and philanthropic partners, and backed by G7 and G20 political leaders. The 40-member taskforce consists of members from the private sector, and it seeks to improve the disclosure of financial information related to nature-related risks and opportunities.\n",
            "\n",
            "NDVI and NDMI are two nature-based metrics used to assess vegetation health. NDVI uses the difference between near-infrared and visible light to produce a measure that ranges from -1 to 1. A high NDVI value indicates healthy vegetation, while a low value suggests barren areas or non-vegetated surfaces. NDMI uses the difference between the near-infrared and short-wave infrared reflectances to estimate the moisture content of vegetation. NDMI values also range from -1 to 1, with higher values indicating more moisture.\n",
            "\n",
            "Based on the data provided by TNFD for year 2022, both NDVI and NDMI show a general trend of increasing values from January to June, followed by a slight decrease in July and August. This is indicative of a healthy vegetation cover, with higher levels of moisture in the spring and summer months. This trend is consistent across both metrics, suggesting that the vegetation cover is healthy and resilient.\n",
            "\n",
            "In conclusion, the data provided by TNFD for year 2022 suggests that the vegetation cover is healthy and resilient. This report provides a general overview of the two nature-based metrics, NDVI and NDMI, and an analysis of the data provided by TNFD for year 2022. \n",
            "\n",
            "We hope that this report will be of use to the TNFD in their efforts to improve the disclosure of financial information related to nature-related risks and opportunities.\n"
          ]
        }
      ],
      "source": [
        "\n",
        "import openai\n",
        "import json\n",
        "\n",
        "\n",
        "# openai.api_key = 'your-api-key'\n",
        "openai.organization = \"org-Dyrs4xcPsjbSVBUeaw29vZoj\"\n",
        "\n",
        "\n",
        "def generate_report(NDVI_values, NDMI_values):\n",
        "    response = openai.Completion.create(\n",
        "      engine=\"text-davinci-003\",\n",
        "      prompt=f\"\"\"\n",
        "      The TNFD, or Taskforce for Nature-related Financial Disclosure, is an international cross-sector initiative. It is a market-led initiative, funded by government and philanthropic partners and backed by G7 and G20 political leaders. The 40-members of the Taskforce are all from the private sector, but TNFD receives no funding from the private sector.\n",
        "\n",
        "      NDVI, or Normalized Difference Vegetation Index, is a metric used in remote sensing to assess vegetation health. It uses the difference between near-infrared (which vegetation strongly reflects) and visible light (which vegetation absorbs) to produce a measure that ranges from -1 to 1. A high NDVI value indicates healthy vegetation, while a low value might suggest barren areas or non-vegetated surfaces such as roads, buildings, or bodies of water.\n",
        "\n",
        "      NDMI, or Normalized Difference Moisture Index, is another metric used in remote sensing. This index is particularly useful for estimating the moisture content of vegetation. It uses the difference between the near-infrared and short-wave infrared reflectances. Similar to NDVI, NDMI values range from -1 to 1, where higher values indicate more moisture.\n",
        "\n",
        "      Given the following NDVI and NDMI values for a year:\n",
        "\n",
        "      NDVI: {json.dumps(NDVI_values)}\n",
        "      NDMI: {json.dumps(NDMI_values)}\n",
        "\n",
        "      Can you identify any notable trends or patterns based on these two metrics? Write a short report for TNFD with an overview of TNFD and nature-based metrics, a background on these two metrics, and an analysis based on the data and trend. Include a placeholder talking about this report as if coming from a corporation called ACME Corp reporting this for TNFD on year 2022.\n",
        "      \"\"\",\n",
        "      temperature=0.5,\n",
        "      max_tokens=500\n",
        "    )\n",
        "\n",
        "    return response.choices[0].text.strip()\n",
        "\n",
        "# Example usage\n",
        "NDVI_values = [0.8, 0.85, 0.82, 0.88, 0.86, 0.90, 0.88, 0.85, 0.84, 0.82, 0.80, 0.78]\n",
        "NDMI_values = [0.6, 0.65, 0.62, 0.68, 0.66, 0.70, 0.68, 0.65, 0.64, 0.62, 0.60, 0.58]\n",
        "\n",
        "print(generate_report(NDVI_values, NDMI_values))\n",
        "\n"
      ]
    },
    {
      "cell_type": "markdown",
      "source": [],
      "metadata": {
        "id": "fpbtsaGxlesg"
      }
    },
    {
      "cell_type": "markdown",
      "source": [],
      "metadata": {
        "id": "Ox1KMUQ9lfb9"
      }
    },
    {
      "cell_type": "code",
      "source": [],
      "metadata": {
        "id": "g0FVNpqkjUGj"
      },
      "execution_count": null,
      "outputs": []
    }
  ]
}